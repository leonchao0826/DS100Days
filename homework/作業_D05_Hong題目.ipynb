{
 "cells": [
  {
   "cell_type": "markdown",
   "metadata": {
    "id": "oef8c2jr-PZY"
   },
   "source": [
    "作業目標<br>\n",
    "計算有缺失值的資料，統計量實作<br>\n",
    "作業重點<br>\n",
    "當遇到缺失值有函式可以處理，不須額外寫程式刪除<br>\n",
    "計算統計量時不能出現缺失值"
   ]
  },
  {
   "cell_type": "markdown",
   "metadata": {
    "id": "4YgL8NF4-Ru3"
   },
   "source": [
    "題目:<br>\n",
    "english_score = np.array([55,89,76,65,48,70])<br>\n",
    "math_score = np.array([60,85,60,68,np.nan,60])<br>\n",
    "chinese_score = np.array([65,90,82,72,66,77])<br>\n",
    "上3列共六位同學的英文、數學、國文成績，第一個元素代表第一位同學，舉例第一位同學英文55分、數學60分、國文65分，今天第五位同學因某原因沒來考試，導致數學成績缺值，運用上列數據回答下列問題。<br>\n",
    "1. 請計算各科成績平均、最大值、最小值、標準差，其中數學缺一筆資料可忽略?\n",
    "2. 第五位同學補考數學後成績為55，請計算補考後數學成績平均、最大值、最小值、標準差?\n",
    "3. 用補考後資料找出與國文成績相關係數最高的學科?"
   ]
  },
  {
   "cell_type": "code",
   "execution_count": 1,
   "metadata": {
    "ExecuteTime": {
     "end_time": "2021-02-22T08:27:27.425169Z",
     "start_time": "2021-02-22T08:27:22.822016Z"
    },
    "executionInfo": {
     "elapsed": 617,
     "status": "ok",
     "timestamp": 1609854566856,
     "user": {
      "displayName": "献竤黃",
      "photoUrl": "",
      "userId": "07529243043474362942"
     },
     "user_tz": -480
    },
    "id": "QwsKU8qO-RK7"
   },
   "outputs": [],
   "source": [
    "import numpy as np"
   ]
  },
  {
   "cell_type": "code",
   "execution_count": 2,
   "metadata": {
    "ExecuteTime": {
     "end_time": "2021-02-22T08:27:27.994634Z",
     "start_time": "2021-02-22T08:27:27.984662Z"
    },
    "executionInfo": {
     "elapsed": 1016,
     "status": "ok",
     "timestamp": 1609854567261,
     "user": {
      "displayName": "献竤黃",
      "photoUrl": "",
      "userId": "07529243043474362942"
     },
     "user_tz": -480
    },
    "id": "B5BqDQAe_czh"
   },
   "outputs": [],
   "source": [
    "english_score = np.array([55,89,76,65,48,70])\n",
    "math_score = np.array([60,85,60,68,np.nan,60])\n",
    "chinese_score = np.array([65,90,82,72,66,77])"
   ]
  },
  {
   "cell_type": "code",
   "execution_count": 25,
   "metadata": {
    "ExecuteTime": {
     "end_time": "2021-02-22T08:58:21.417525Z",
     "start_time": "2021-02-22T08:58:21.357685Z"
    },
    "executionInfo": {
     "elapsed": 1005,
     "status": "ok",
     "timestamp": 1609854567262,
     "user": {
      "displayName": "献竤黃",
      "photoUrl": "",
      "userId": "07529243043474362942"
     },
     "user_tz": -480
    },
    "id": "K3tUA6u9aI3N"
   },
   "outputs": [
    {
     "name": "stdout",
     "output_type": "stream",
     "text": [
      "英文平均分數=67.17\n",
      "數學平均分數= 66.6\n",
      "國文平均分數=75.33\n",
      "英文最高分=89\n",
      "數學最高分=85\n",
      "國文最高分=90\n",
      "英文最低分=48\n",
      "數學最低分=60\n",
      "國文最低分=65\n",
      "英文標準差=13.43\n",
      "數學標準差=9.71\n",
      "國文標準差=8.83\n"
     ]
    }
   ],
   "source": [
    "#1.1 請計算各科成績平均、其中數學缺一筆資料可忽略?\n",
    "mean_english_score=np.mean(english_score,axis=None)\n",
    "mean_math_score=np.nanmean(math_score)\n",
    "mean_chinese_score=np.mean(chinese_score)\n",
    "print('英文平均分數={:.2f}'.format(mean_english_score))\n",
    "print('數學平均分數=',mean_math_score)\n",
    "print('國文平均分數={:.2f}'.format(mean_chinese_score))\n",
    "#1.2 請計算各科成績、最大值,其中數學缺一筆資料可忽略?\n",
    "max_english_score=np.max(english_score,axis=None)\n",
    "max_math_score=np.nanmax(math_score)\n",
    "max_chinese_score=np.max(chinese_score)\n",
    "print('英文最高分={:.0f}'.format(max_english_score))\n",
    "print('數學最高分={:.0f}'.format(max_math_score))\n",
    "print('國文最高分={:.0f}'.format(max_chinese_score))\n",
    "#1.3 請計算各科成績、最小值,其中數學缺一筆資料可忽略?\n",
    "min_english_score=np.min(english_score,axis=None)\n",
    "min_math_score=np.nanmin(math_score)\n",
    "min_chinese_score=np.min(chinese_score)\n",
    "print('英文最低分={:.0f}'.format(min_english_score))\n",
    "print('數學最低分={:.0f}'.format(min_math_score))\n",
    "print('國文最低分={:.0f}'.format(min_chinese_score))\n",
    "#1.4 請計算各科成績、標準差,其中數學缺一筆資料可忽略?\n",
    "std_english_score=np.std(english_score,axis=None)\n",
    "std_math_score=np.nanstd(math_score)\n",
    "std_chinese_score=np.std(chinese_score)\n",
    "print('英文標準差={:.2f}'.format(std_english_score))\n",
    "print('數學標準差={:.2f}'.format(std_math_score))\n",
    "print('國文標準差={:.2f}'.format(std_chinese_score))"
   ]
  },
  {
   "cell_type": "code",
   "execution_count": 26,
   "metadata": {
    "ExecuteTime": {
     "end_time": "2021-02-22T09:02:12.215502Z",
     "start_time": "2021-02-22T09:02:12.187577Z"
    },
    "executionInfo": {
     "elapsed": 996,
     "status": "ok",
     "timestamp": 1609854567262,
     "user": {
      "displayName": "献竤黃",
      "photoUrl": "",
      "userId": "07529243043474362942"
     },
     "user_tz": -480
    },
    "id": "mXjDzvSrbLlf"
   },
   "outputs": [
    {
     "name": "stdout",
     "output_type": "stream",
     "text": [
      "數學平均分數=64.67\n",
      "數學最高分數=85\n",
      "數學最低分數=55\n",
      "數學標準差=9.86\n"
     ]
    }
   ],
   "source": [
    "#2. 第五位同學補考數學後成績為55，請計算補考後數學成績平均、最大值、最小值、標準差?\n",
    "math_score_new = np.array([60,85,60,68,55,60])\n",
    "mean_math_score_new=np.mean(math_score_new)\n",
    "max_math_score_new=np.max(math_score_new)\n",
    "min_math_score_new=np.min(math_score_new)\n",
    "std_math_score_new=np.std(math_score_new)\n",
    "print('數學平均分數={:.2f}'.format(mean_math_score_new))\n",
    "print('數學最高分數={:.0f}'.format(max_math_score_new))\n",
    "print('數學最低分數={:.0f}'.format(min_math_score_new))\n",
    "print('數學標準差={:.2f}'.format(std_math_score_new))"
   ]
  },
  {
   "cell_type": "code",
   "execution_count": 29,
   "metadata": {
    "ExecuteTime": {
     "end_time": "2021-02-22T09:19:19.437206Z",
     "start_time": "2021-02-22T09:19:19.418257Z"
    },
    "executionInfo": {
     "elapsed": 989,
     "status": "ok",
     "timestamp": 1609854567264,
     "user": {
      "displayName": "献竤黃",
      "photoUrl": "",
      "userId": "07529243043474362942"
     },
     "user_tz": -480
    },
    "id": "SaGolKx0cKoU"
   },
   "outputs": [
    {
     "name": "stdout",
     "output_type": "stream",
     "text": [
      "國文與數學相關= [29616]\n",
      "國文與英文相關= [31055]\n"
     ]
    }
   ],
   "source": [
    "#3. 用補考後資料找出與國文成績相關係數最高的學科?\n",
    "corr_1=np.correlate(chinese_score,math_score_new,mode='valid')\n",
    "print('國文與數學相關=',corr_1)\n",
    "corr_2=np.correlate(chinese_score,english_score,mode='valid')\n",
    "print('國文與英文相關=',corr_2)"
   ]
  },
  {
   "cell_type": "code",
   "execution_count": 5,
   "metadata": {
    "executionInfo": {
     "elapsed": 987,
     "status": "ok",
     "timestamp": 1609854567264,
     "user": {
      "displayName": "献竤黃",
      "photoUrl": "",
      "userId": "07529243043474362942"
     },
     "user_tz": -480
    },
    "id": "fTNlLZ9Pzyiy"
   },
   "outputs": [],
   "source": []
  }
 ],
 "metadata": {
  "colab": {
   "authorship_tag": "ABX9TyPtywwDR7TsGGEOMGYLDT5h",
   "collapsed_sections": [],
   "name": "作業Hong題目.ipynb",
   "provenance": []
  },
  "kernelspec": {
   "display_name": "Python 3",
   "language": "python",
   "name": "python3"
  },
  "language_info": {
   "codemirror_mode": {
    "name": "ipython",
    "version": 3
   },
   "file_extension": ".py",
   "mimetype": "text/x-python",
   "name": "python",
   "nbconvert_exporter": "python",
   "pygments_lexer": "ipython3",
   "version": "3.6.4"
  },
  "toc": {
   "base_numbering": 1,
   "nav_menu": {},
   "number_sections": true,
   "sideBar": true,
   "skip_h1_title": false,
   "title_cell": "Table of Contents",
   "title_sidebar": "Contents",
   "toc_cell": false,
   "toc_position": {},
   "toc_section_display": true,
   "toc_window_display": false
  }
 },
 "nbformat": 4,
 "nbformat_minor": 1
}
